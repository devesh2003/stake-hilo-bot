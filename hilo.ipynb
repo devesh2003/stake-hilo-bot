{
 "cells": [
  {
   "cell_type": "code",
   "execution_count": 1,
   "metadata": {},
   "outputs": [],
   "source": [
    "import requests\n",
    "import json\n",
    "import numpy as np\n",
    "from time import sleep\n",
    "import urllib3\n",
    "urllib3.disable_warnings(urllib3.exceptions.InsecureRequestWarning)\n",
    "import matplotlib.pyplot as plt"
   ]
  },
  {
   "cell_type": "code",
   "execution_count": 2,
   "metadata": {},
   "outputs": [],
   "source": [
    "BET_AMOUNT = 1\n",
    "LOOP = 50\n",
    "START_CARDS = [(\"D\",\"A\"),(\"C\",\"A\"),(\"H\",\"A\")]"
   ]
  },
  {
   "cell_type": "code",
   "execution_count": 11,
   "metadata": {},
   "outputs": [
    {
     "name": "stdout",
     "output_type": "stream",
     "text": [
      "200 {\"data\":{\"hiloBet\":{\"id\":\"901c7cb7-65af-4ad5-bf3e-0c477eef4995\",\"active\":true,\"payoutMultiplier\":0,\"amountMultiplier\":1,\"amount\":1,\"payout\":0,\"updatedAt\":\"Mon, 22 Apr 2024 19:56:21 GMT\",\"currency\":\"inr\",\"game\":\"hilo\",\"user\":{\"id\":\"8a064f6c-aa69-46ef-af41-d7f6148aa5aa\",\"name\":\"vardan69\"},\"state\":{\"startCard\":{\"suit\":\"D\",\"rank\":\"A\"},\"rounds\":[]}}}}\n",
      "\n"
     ]
    }
   ],
   "source": [
    "import requests\n",
    "\n",
    "class HTTPRequest:\n",
    "    def __init__(self, raw_request):\n",
    "        self.method = None\n",
    "        self.url = None\n",
    "        self.headers = {}\n",
    "        self.body = None\n",
    "        self.cookies = {}\n",
    "        self.parse_request(raw_request)\n",
    "    \n",
    "    def parse_request(self, raw_request):\n",
    "        lines = raw_request.strip().split('\\n')\n",
    "        request_line = lines[0].split()\n",
    "        self.method = request_line[0]\n",
    "\n",
    "        # Parsing headers\n",
    "        body_index = None\n",
    "        for i, line in enumerate(lines[1:]):\n",
    "            if line.strip() == '':\n",
    "                body_index = i + 1\n",
    "                break\n",
    "            key, value = line.split(':', 1)\n",
    "            if 'Cookie' in key:\n",
    "                cookies = value.split(';')\n",
    "                for cookie in cookies:\n",
    "                    cookie_key, cookie_value = cookie.split('=', 1)\n",
    "                    self.cookies[cookie_key.strip()] = cookie_value.strip()\n",
    "            else:\n",
    "                self.headers[key.strip()] = value.strip()\n",
    "                \n",
    "        self.url = 'https://' + self.headers['Host'] + request_line[1]\n",
    "        \n",
    "        \n",
    "        # # Handling the body\n",
    "        # if body_index:\n",
    "        #     self.body = '\\n'.join(lines[body_index + 1:])\n",
    "            \n",
    "    def set_body(self, body):\n",
    "        self.body = json.dumps(body)\n",
    "\n",
    "    def send(self):\n",
    "        # Select the request method and send the request with the requests library\n",
    "        if self.method.upper() == 'POST':\n",
    "            response = requests.post(self.url, headers=self.headers, cookies=self.cookies, data=self.body, verify=False)\n",
    "        else:\n",
    "            raise ValueError(f\"HTTP method {self.method} is not supported or not implemented in this function.\")\n",
    "        \n",
    "        return response\n",
    "\n",
    "# Example raw request (truncated for demonstration; you would use the full request you posted)\n",
    "raw_request = \"\"\"\n",
    "POST /_api/graphql HTTP/2\n",
    "Host: stake.com\n",
    "Cookie: currency_hideZeroBalances=false; currency_currencyView=crypto; session_info=undefined; fiat_number_format=en; leftSidebarView_v2=expanded; sidebarView=hidden; casinoSearch=[\"Monopoly\",\"Crazy Time\",\"Sweet Bonanza\",\"Money Train\",\"Reactoonz\"]; sportsSearch=[\"Liverpool FC\",\"Kansas City Chiefs\",\"Los Angeles Lakers\",\"FC Barcelona\",\"FC Bayern Munich\"]; sportMarketGroupMap={}; oddsFormat=decimal; locale=en; currency_hideZeroBalances=false; currency_currencyView=crypto; fiat_number_format=en; leftSidebarView_v2=expanded; sidebarView=hidden; casinoSearch=[\"Monopoly\",\"Crazy Time\",\"Sweet Bonanza\",\"Money Train\",\"Reactoonz\"]; sportsSearch=[\"Liverpool FC\",\"Kansas City Chiefs\",\"Los Angeles Lakers\",\"FC Barcelona\",\"FC Bayern Munich\"]; sportMarketGroupMap={}; oddsFormat=decimal; locale=en; intercom-id-cx1ywgf2=e99c6f84-0cbb-43d8-83eb-50902431cb42; intercom-device-id-cx1ywgf2=4e5a5b7d-2a23-467c-9dea-b4eacf4c62ab; session=3fb25474fcd4a70eac4f659b59f7598c081e634536683a04ce2e1f2610fe74927c68a54c803eb27c67d49e7ecc5aea0c; session_info={\"id\":\"4b81ae30-4927-4ce7-9ad2-5aca65915b57\",\"sessionName\":\"Chrome (Unknown)\",\"ip\":\"106.221.107.85\",\"country\":\"IN\",\"city\":\"Bhopal (B Sector)\",\"active\":true,\"updatedAt\":\"Fri, 12 Apr 2024 17:06:46 GMT\",\"__typename\":\"UserSession\"}; currency_currency=inr; hideBalances=false; cookie_consent=true; currency_currency=inr; cookie_consent=true; __cf_bm=onujRHsJHSFvm.B8X9ZMAOhGgbp.GHLAL8_rbp0uZDY-1713815575-1.0.1.1-_dH5A7SizMpivEWfjS47MLH5KEqQKcR91P6XDZ1A08DloXO2lIVJK7mNJ6teMq6hO5BZN.jLrcwdYpKUlOXRVA; cf_clearance=snV1_ktHYGl7cMKgY8A35cWzkgcK_FDMMaPgD4zpozs-1713815576-1.0.1.1-KQJN1aLxy4Q7.1F_KxhNlzWgXBxnRdV2zYpD9QN8nnWKQejgrfuqOXURlzD8btxhp6On865gAZXzzN38.KU6QQ; intercom-session-cx1ywgf2=UUlHc1N6QXVZMElBbUN4QWRSb0gxV0srSkZqc2xwRFpISUczSTNvblNTTVVtN1VhNjNObVZHenNnbHNxcUlZcS0tajBPYlBobXVSZVVhR2VXbzJOeGJqUT09--d1bbf77c8b97498223e83934c1518b1dc19ab389\n",
    "Content-Length: 714\n",
    "Sec-Ch-Ua: \"Chromium\";v=\"124\", \"Google Chrome\";v=\"124\", \"Not-A.Brand\";v=\"99\"\n",
    "Dnt: 1\n",
    "Sec-Ch-Ua-Full-Version-List: \"Chromium\";v=\"124.0.6367.61\", \"Google Chrome\";v=\"124.0.6367.61\", \"Not-A.Brand\";v=\"99.0.0.0\"\n",
    "Sec-Ch-Ua-Mobile: ?0\n",
    "User-Agent: Mozilla/5.0 (Macintosh; Intel Mac OS X 10_15_7) AppleWebKit/537.36 (KHTML, like Gecko) Chrome/124.0.0.0 Safari/537.36\n",
    "Sec-Ch-Ua-Arch: \"arm\"\n",
    "Content-Type: application/json\n",
    "Sec-Ch-Ua-Full-Version: \"124.0.6367.61\"\n",
    "Sec-Ch-Ua-Platform-Version: \"14.1.2\"\n",
    "Sec-Ch-Ua-Bitness: \"64\"\n",
    "X-Lockdown-Token: s5MNWtjTM5TvCMkAzxov\n",
    "X-Access-Token: 3fb25474fcd4a70eac4f659b59f7598c081e634536683a04ce2e1f2610fe74927c68a54c803eb27c67d49e7ecc5aea0c\n",
    "Sec-Ch-Ua-Model: \"\"\n",
    "Sec-Ch-Ua-Platform: \"macOS\"\n",
    "Accept: */*\n",
    "Origin: https://stake.com\n",
    "Sec-Fetch-Site: same-origin\n",
    "Sec-Fetch-Mode: cors\n",
    "Sec-Fetch-Dest: empty\n",
    "Referer: https://stake.com/casino/games/mines\n",
    "Accept-Encoding: gzip, deflate, br\n",
    "Accept-Language: en-US,en;q=0.9,hi;q=0.8,ru;q=0.7\n",
    "Priority: u=1, i\n",
    "\n",
    "{\"query\":\"mutation MinesBet($amount: Float!, $currency: CurrencyEnum!, $minesCount: Int!, $fields: [Int!], $identifier: String) {\\n  minesBet(\\n    amount: $amount\\n    currency: $currency\\n    minesCount: $minesCount\\n    fields: $fields\\n    identifier: $identifier\\n  ) {\\n    ...CasinoBet\\n    state {\\n      ...CasinoGameMines\\n    }\\n  }\\n}\\n\\nfragment CasinoBet on CasinoBet {\\n  id\\n  active\\n  payoutMultiplier\\n  amountMultiplier\\n  amount\\n  payout\\n  updatedAt\\n  currency\\n  game\\n  user {\\n    id\\n    name\\n  }\\n}\\n\\nfragment CasinoGameMines on CasinoGameMines {\\n  mines\\n  minesCount\\n  rounds {\\n    field\\n    payoutMultiplier\\n  }\\n}\\n\",\"variables\":{\"currency\":\"inr\",\"amount\":0,\"minesCount\":3}}\n",
    "\"\"\"\n",
    "\n",
    "http_request = HTTPRequest(raw_request)\n",
    "http_request.set_body({\"query\":\"mutation HiloBet($amount: Float!, $currency: CurrencyEnum!, $startCard: HiloBetStartCardInput!) {\\n  hiloBet(amount: $amount, currency: $currency, startCard: $startCard) {\\n    ...CasinoBet\\n    state {\\n      ...CasinoGameHilo\\n    }\\n  }\\n}\\n\\nfragment CasinoBet on CasinoBet {\\n  id\\n  active\\n  payoutMultiplier\\n  amountMultiplier\\n  amount\\n  payout\\n  updatedAt\\n  currency\\n  game\\n  user {\\n    id\\n    name\\n  }\\n}\\n\\nfragment CasinoGameHilo on CasinoGameHilo {\\n  startCard {\\n    suit\\n    rank\\n  }\\n  rounds {\\n    card {\\n      suit\\n      rank\\n    }\\n    guess\\n    payoutMultiplier\\n  }\\n}\\n\",\"variables\":{\"currency\":\"inr\",\"amount\":BET_AMOUNT,\"startCard\":{\"suit\":\"D\",\"rank\":\"A\"}}})\n",
    "response = http_request.send()\n",
    "print(response.status_code, response.text)"
   ]
  },
  {
   "cell_type": "code",
   "execution_count": 12,
   "metadata": {},
   "outputs": [],
   "source": [
    "# Guess higher\n",
    "http_request.set_body({\"query\":\"mutation HiloNext($guess: CasinoGameHiloGuessEnum!) {\\n  hiloNext(guess: $guess) {\\n    ...CasinoBet\\n    state {\\n      ...CasinoGameHilo\\n    }\\n  }\\n}\\n\\nfragment CasinoBet on CasinoBet {\\n  id\\n  active\\n  payoutMultiplier\\n  amountMultiplier\\n  amount\\n  payout\\n  updatedAt\\n  currency\\n  game\\n  user {\\n    id\\n    name\\n  }\\n}\\n\\nfragment CasinoGameHilo on CasinoGameHilo {\\n  startCard {\\n    suit\\n    rank\\n  }\\n  rounds {\\n    card {\\n      suit\\n      rank\\n    }\\n    guess\\n    payoutMultiplier\\n  }\\n}\\n\",\"variables\":{\"guess\":\"higher\",\"rank\":\"9\"}})"
   ]
  },
  {
   "cell_type": "code",
   "execution_count": 13,
   "metadata": {},
   "outputs": [],
   "source": [
    "response = http_request.send()"
   ]
  },
  {
   "cell_type": "code",
   "execution_count": 14,
   "metadata": {},
   "outputs": [
    {
     "data": {
      "text/plain": [
       "'J'"
      ]
     },
     "execution_count": 14,
     "metadata": {},
     "output_type": "execute_result"
    }
   ],
   "source": [
    "response.json()[\"data\"][\"hiloNext\"][\"state\"][\"rounds\"][-1][\"card\"][\"rank\"]"
   ]
  },
  {
   "cell_type": "code",
   "execution_count": 15,
   "metadata": {},
   "outputs": [],
   "source": [
    "# Cashout\n",
    "http_request.set_body({\"query\":\"mutation HiloCashout {\\n  hiloCashout {\\n    ...CasinoBet\\n    state {\\n      ...CasinoGameHilo\\n    }\\n  }\\n}\\n\\nfragment CasinoBet on CasinoBet {\\n  id\\n  active\\n  payoutMultiplier\\n  amountMultiplier\\n  amount\\n  payout\\n  updatedAt\\n  currency\\n  game\\n  user {\\n    id\\n    name\\n  }\\n}\\n\\nfragment CasinoGameHilo on CasinoGameHilo {\\n  startCard {\\n    suit\\n    rank\\n  }\\n  rounds {\\n    card {\\n      suit\\n      rank\\n    }\\n    guess\\n    payoutMultiplier\\n  }\\n}\\n\",\"variables\":{}})"
   ]
  },
  {
   "cell_type": "code",
   "execution_count": 16,
   "metadata": {},
   "outputs": [
    {
     "data": {
      "text/plain": [
       "{'data': {'hiloCashout': {'id': '901c7cb7-65af-4ad5-bf3e-0c477eef4995',\n",
       "   'active': False,\n",
       "   'payoutMultiplier': 1.0725,\n",
       "   'amountMultiplier': 1,\n",
       "   'amount': 1,\n",
       "   'payout': 1.0725,\n",
       "   'updatedAt': 'Mon, 22 Apr 2024 19:56:26 GMT',\n",
       "   'currency': 'inr',\n",
       "   'game': 'hilo',\n",
       "   'user': {'id': '8a064f6c-aa69-46ef-af41-d7f6148aa5aa', 'name': 'vardan69'},\n",
       "   'state': {'startCard': {'suit': 'D', 'rank': 'A'},\n",
       "    'rounds': [{'card': {'suit': 'D', 'rank': 'J'},\n",
       "      'guess': 'higher',\n",
       "      'payoutMultiplier': 1.0725}]}}}}"
      ]
     },
     "execution_count": 16,
     "metadata": {},
     "output_type": "execute_result"
    }
   ],
   "source": [
    "round_response = http_request.send()\n",
    "round_response.json()"
   ]
  },
  {
   "cell_type": "code",
   "execution_count": 17,
   "metadata": {},
   "outputs": [
    {
     "data": {
      "text/plain": [
       "1.0725"
      ]
     },
     "execution_count": 17,
     "metadata": {},
     "output_type": "execute_result"
    }
   ],
   "source": [
    "round_response.json()[\"data\"][\"hiloCashout\"][\"payoutMultiplier\"]"
   ]
  },
  {
   "cell_type": "code",
   "execution_count": 18,
   "metadata": {},
   "outputs": [],
   "source": [
    "def start_bet(amount, start_card):\n",
    "    http_request.set_body({\"query\":\"mutation HiloBet($amount: Float!, $currency: CurrencyEnum!, $startCard: HiloBetStartCardInput!) {\\n  hiloBet(amount: $amount, currency: $currency, startCard: $startCard) {\\n    ...CasinoBet\\n    state {\\n      ...CasinoGameHilo\\n    }\\n  }\\n}\\n\\nfragment CasinoBet on CasinoBet {\\n  id\\n  active\\n  payoutMultiplier\\n  amountMultiplier\\n  amount\\n  payout\\n  updatedAt\\n  currency\\n  game\\n  user {\\n    id\\n    name\\n  }\\n}\\n\\nfragment CasinoGameHilo on CasinoGameHilo {\\n  startCard {\\n    suit\\n    rank\\n  }\\n  rounds {\\n    card {\\n      suit\\n      rank\\n    }\\n    guess\\n    payoutMultiplier\\n  }\\n}\\n\",\"variables\":{\"currency\":\"inr\",\"amount\":amount,\"startCard\":{\"suit\":start_card[0],\"rank\":start_card[1]}}})\n",
    "    return http_request.send()\n",
    "\n",
    "def guess_higher():\n",
    "    http_request.set_body({\"query\":\"mutation HiloNext($guess: CasinoGameHiloGuessEnum!) {\\n  hiloNext(guess: $guess) {\\n    ...CasinoBet\\n    state {\\n      ...CasinoGameHilo\\n    }\\n  }\\n}\\n\\nfragment CasinoBet on CasinoBet {\\n  id\\n  active\\n  payoutMultiplier\\n  amountMultiplier\\n  amount\\n  payout\\n  updatedAt\\n  currency\\n  game\\n  user {\\n    id\\n    name\\n  }\\n}\\n\\nfragment CasinoGameHilo on CasinoGameHilo {\\n  startCard {\\n    suit\\n    rank\\n  }\\n  rounds {\\n    card {\\n      suit\\n      rank\\n    }\\n    guess\\n    payoutMultiplier\\n  }\\n}\\n\",\"variables\":{\"guess\":\"higher\"}})\n",
    "    return http_request.send()\n",
    "    \n",
    "def guess_lower():\n",
    "    http_request.set_body({\"query\":\"mutation HiloNext($guess: CasinoGameHiloGuessEnum!) {\\n  hiloNext(guess: $guess) {\\n    ...CasinoBet\\n    state {\\n      ...CasinoGameHilo\\n    }\\n  }\\n}\\n\\nfragment CasinoBet on CasinoBet {\\n  id\\n  active\\n  payoutMultiplier\\n  amountMultiplier\\n  amount\\n  payout\\n  updatedAt\\n  currency\\n  game\\n  user {\\n    id\\n    name\\n  }\\n}\\n\\nfragment CasinoGameHilo on CasinoGameHilo {\\n  startCard {\\n    suit\\n    rank\\n  }\\n  rounds {\\n    card {\\n      suit\\n      rank\\n    }\\n    guess\\n    payoutMultiplier\\n  }\\n}\\n\",\"variables\":{\"guess\":\"lower\"}})\n",
    "    return http_request.send()\n",
    "    \n",
    "def skip():\n",
    "    http_request.set_body({\"query\":\"mutation HiloNext($guess: CasinoGameHiloGuessEnum!) {\\n  hiloNext(guess: $guess) {\\n    ...CasinoBet\\n    state {\\n      ...CasinoGameHilo\\n    }\\n  }\\n}\\n\\nfragment CasinoBet on CasinoBet {\\n  id\\n  active\\n  payoutMultiplier\\n  amountMultiplier\\n  amount\\n  payout\\n  updatedAt\\n  currency\\n  game\\n  user {\\n    id\\n    name\\n  }\\n}\\n\\nfragment CasinoGameHilo on CasinoGameHilo {\\n  startCard {\\n    suit\\n    rank\\n  }\\n  rounds {\\n    card {\\n      suit\\n      rank\\n    }\\n    guess\\n    payoutMultiplier\\n  }\\n}\\n\",\"variables\":{\"guess\":\"skip\"}})\n",
    "    return http_request.send()\n",
    "    \n",
    "def cashout():\n",
    "    http_request.set_body({\"query\":\"mutation HiloCashout {\\n  hiloCashout {\\n    ...CasinoBet\\n    state {\\n      ...CasinoGameHilo\\n    }\\n  }\\n}\\n\\nfragment CasinoBet on CasinoBet {\\n  id\\n  active\\n  payoutMultiplier\\n  amountMultiplier\\n  amount\\n  payout\\n  updatedAt\\n  currency\\n  game\\n  user {\\n    id\\n    name\\n  }\\n}\\n\\nfragment CasinoGameHilo on CasinoGameHilo {\\n  startCard {\\n    suit\\n    rank\\n  }\\n  rounds {\\n    card {\\n      suit\\n      rank\\n    }\\n    guess\\n    payoutMultiplier\\n  }\\n}\\n\",\"variables\":{}})\n",
    "    return http_request.send()\n",
    "\n",
    "def get_direction(rounds):\n",
    "    last = rounds[-1][\"card\"][\"rank\"]\n",
    "    skips = 0\n",
    "    while last != \"K\" and last != \"A\":\n",
    "        if skips > 11:\n",
    "            return None\n",
    "        skips += 1\n",
    "        resp = skip().json()\n",
    "        last = resp[\"data\"][\"hiloNext\"][\"state\"][\"rounds\"][-1][\"card\"][\"rank\"]\n",
    "        # print(last)\n",
    "        sleep(0.1)\n",
    "    # input(\">\")\n",
    "    return last == \"A\""
   ]
  },
  {
   "cell_type": "code",
   "execution_count": 19,
   "metadata": {},
   "outputs": [
    {
     "name": "stdout",
     "output_type": "stream",
     "text": [
      "----LOST----\n",
      "Payout: 1.161875\n",
      "Payout: 1.161875\n",
      "Payout: 1.161875\n",
      "Payout: 1.161875\n"
     ]
    },
    {
     "ename": "KeyboardInterrupt",
     "evalue": "",
     "output_type": "error",
     "traceback": [
      "\u001b[0;31m---------------------------------------------------------------------------\u001b[0m",
      "\u001b[0;31mKeyboardInterrupt\u001b[0m                         Traceback (most recent call last)",
      "Cell \u001b[0;32mIn[19], line 7\u001b[0m\n\u001b[1;32m      5\u001b[0m card \u001b[38;5;241m=\u001b[39m START_CARDS[rand_index]\n\u001b[1;32m      6\u001b[0m start_bet(BET_AMOUNT, card)\n\u001b[0;32m----> 7\u001b[0m resp \u001b[38;5;241m=\u001b[39m \u001b[43mguess_higher\u001b[49m\u001b[43m(\u001b[49m\u001b[43m)\u001b[49m\u001b[38;5;241m.\u001b[39mjson()\n\u001b[1;32m     10\u001b[0m \u001b[38;5;66;03m# return true for high\u001b[39;00m\n\u001b[1;32m     11\u001b[0m \u001b[38;5;28;01mtry\u001b[39;00m:\n",
      "Cell \u001b[0;32mIn[18], line 7\u001b[0m, in \u001b[0;36mguess_higher\u001b[0;34m()\u001b[0m\n\u001b[1;32m      5\u001b[0m \u001b[38;5;28;01mdef\u001b[39;00m \u001b[38;5;21mguess_higher\u001b[39m():\n\u001b[1;32m      6\u001b[0m     http_request\u001b[38;5;241m.\u001b[39mset_body({\u001b[38;5;124m\"\u001b[39m\u001b[38;5;124mquery\u001b[39m\u001b[38;5;124m\"\u001b[39m:\u001b[38;5;124m\"\u001b[39m\u001b[38;5;124mmutation HiloNext($guess: CasinoGameHiloGuessEnum!) \u001b[39m\u001b[38;5;124m{\u001b[39m\u001b[38;5;130;01m\\n\u001b[39;00m\u001b[38;5;124m  hiloNext(guess: $guess) \u001b[39m\u001b[38;5;124m{\u001b[39m\u001b[38;5;130;01m\\n\u001b[39;00m\u001b[38;5;124m    ...CasinoBet\u001b[39m\u001b[38;5;130;01m\\n\u001b[39;00m\u001b[38;5;124m    state \u001b[39m\u001b[38;5;124m{\u001b[39m\u001b[38;5;130;01m\\n\u001b[39;00m\u001b[38;5;124m      ...CasinoGameHilo\u001b[39m\u001b[38;5;130;01m\\n\u001b[39;00m\u001b[38;5;124m    }\u001b[39m\u001b[38;5;130;01m\\n\u001b[39;00m\u001b[38;5;124m  }\u001b[39m\u001b[38;5;130;01m\\n\u001b[39;00m\u001b[38;5;124m}\u001b[39m\u001b[38;5;130;01m\\n\u001b[39;00m\u001b[38;5;130;01m\\n\u001b[39;00m\u001b[38;5;124mfragment CasinoBet on CasinoBet \u001b[39m\u001b[38;5;124m{\u001b[39m\u001b[38;5;130;01m\\n\u001b[39;00m\u001b[38;5;124m  id\u001b[39m\u001b[38;5;130;01m\\n\u001b[39;00m\u001b[38;5;124m  active\u001b[39m\u001b[38;5;130;01m\\n\u001b[39;00m\u001b[38;5;124m  payoutMultiplier\u001b[39m\u001b[38;5;130;01m\\n\u001b[39;00m\u001b[38;5;124m  amountMultiplier\u001b[39m\u001b[38;5;130;01m\\n\u001b[39;00m\u001b[38;5;124m  amount\u001b[39m\u001b[38;5;130;01m\\n\u001b[39;00m\u001b[38;5;124m  payout\u001b[39m\u001b[38;5;130;01m\\n\u001b[39;00m\u001b[38;5;124m  updatedAt\u001b[39m\u001b[38;5;130;01m\\n\u001b[39;00m\u001b[38;5;124m  currency\u001b[39m\u001b[38;5;130;01m\\n\u001b[39;00m\u001b[38;5;124m  game\u001b[39m\u001b[38;5;130;01m\\n\u001b[39;00m\u001b[38;5;124m  user \u001b[39m\u001b[38;5;124m{\u001b[39m\u001b[38;5;130;01m\\n\u001b[39;00m\u001b[38;5;124m    id\u001b[39m\u001b[38;5;130;01m\\n\u001b[39;00m\u001b[38;5;124m    name\u001b[39m\u001b[38;5;130;01m\\n\u001b[39;00m\u001b[38;5;124m  }\u001b[39m\u001b[38;5;130;01m\\n\u001b[39;00m\u001b[38;5;124m}\u001b[39m\u001b[38;5;130;01m\\n\u001b[39;00m\u001b[38;5;130;01m\\n\u001b[39;00m\u001b[38;5;124mfragment CasinoGameHilo on CasinoGameHilo \u001b[39m\u001b[38;5;124m{\u001b[39m\u001b[38;5;130;01m\\n\u001b[39;00m\u001b[38;5;124m  startCard \u001b[39m\u001b[38;5;124m{\u001b[39m\u001b[38;5;130;01m\\n\u001b[39;00m\u001b[38;5;124m    suit\u001b[39m\u001b[38;5;130;01m\\n\u001b[39;00m\u001b[38;5;124m    rank\u001b[39m\u001b[38;5;130;01m\\n\u001b[39;00m\u001b[38;5;124m  }\u001b[39m\u001b[38;5;130;01m\\n\u001b[39;00m\u001b[38;5;124m  rounds \u001b[39m\u001b[38;5;124m{\u001b[39m\u001b[38;5;130;01m\\n\u001b[39;00m\u001b[38;5;124m    card \u001b[39m\u001b[38;5;124m{\u001b[39m\u001b[38;5;130;01m\\n\u001b[39;00m\u001b[38;5;124m      suit\u001b[39m\u001b[38;5;130;01m\\n\u001b[39;00m\u001b[38;5;124m      rank\u001b[39m\u001b[38;5;130;01m\\n\u001b[39;00m\u001b[38;5;124m    }\u001b[39m\u001b[38;5;130;01m\\n\u001b[39;00m\u001b[38;5;124m    guess\u001b[39m\u001b[38;5;130;01m\\n\u001b[39;00m\u001b[38;5;124m    payoutMultiplier\u001b[39m\u001b[38;5;130;01m\\n\u001b[39;00m\u001b[38;5;124m  }\u001b[39m\u001b[38;5;130;01m\\n\u001b[39;00m\u001b[38;5;124m}\u001b[39m\u001b[38;5;130;01m\\n\u001b[39;00m\u001b[38;5;124m\"\u001b[39m,\u001b[38;5;124m\"\u001b[39m\u001b[38;5;124mvariables\u001b[39m\u001b[38;5;124m\"\u001b[39m:{\u001b[38;5;124m\"\u001b[39m\u001b[38;5;124mguess\u001b[39m\u001b[38;5;124m\"\u001b[39m:\u001b[38;5;124m\"\u001b[39m\u001b[38;5;124mhigher\u001b[39m\u001b[38;5;124m\"\u001b[39m}})\n\u001b[0;32m----> 7\u001b[0m     \u001b[38;5;28;01mreturn\u001b[39;00m \u001b[43mhttp_request\u001b[49m\u001b[38;5;241;43m.\u001b[39;49m\u001b[43msend\u001b[49m\u001b[43m(\u001b[49m\u001b[43m)\u001b[49m\n",
      "Cell \u001b[0;32mIn[11], line 45\u001b[0m, in \u001b[0;36mHTTPRequest.send\u001b[0;34m(self)\u001b[0m\n\u001b[1;32m     42\u001b[0m \u001b[38;5;28;01mdef\u001b[39;00m \u001b[38;5;21msend\u001b[39m(\u001b[38;5;28mself\u001b[39m):\n\u001b[1;32m     43\u001b[0m     \u001b[38;5;66;03m# Select the request method and send the request with the requests library\u001b[39;00m\n\u001b[1;32m     44\u001b[0m     \u001b[38;5;28;01mif\u001b[39;00m \u001b[38;5;28mself\u001b[39m\u001b[38;5;241m.\u001b[39mmethod\u001b[38;5;241m.\u001b[39mupper() \u001b[38;5;241m==\u001b[39m \u001b[38;5;124m'\u001b[39m\u001b[38;5;124mPOST\u001b[39m\u001b[38;5;124m'\u001b[39m:\n\u001b[0;32m---> 45\u001b[0m         response \u001b[38;5;241m=\u001b[39m \u001b[43mrequests\u001b[49m\u001b[38;5;241;43m.\u001b[39;49m\u001b[43mpost\u001b[49m\u001b[43m(\u001b[49m\u001b[38;5;28;43mself\u001b[39;49m\u001b[38;5;241;43m.\u001b[39;49m\u001b[43murl\u001b[49m\u001b[43m,\u001b[49m\u001b[43m \u001b[49m\u001b[43mheaders\u001b[49m\u001b[38;5;241;43m=\u001b[39;49m\u001b[38;5;28;43mself\u001b[39;49m\u001b[38;5;241;43m.\u001b[39;49m\u001b[43mheaders\u001b[49m\u001b[43m,\u001b[49m\u001b[43m \u001b[49m\u001b[43mcookies\u001b[49m\u001b[38;5;241;43m=\u001b[39;49m\u001b[38;5;28;43mself\u001b[39;49m\u001b[38;5;241;43m.\u001b[39;49m\u001b[43mcookies\u001b[49m\u001b[43m,\u001b[49m\u001b[43m \u001b[49m\u001b[43mdata\u001b[49m\u001b[38;5;241;43m=\u001b[39;49m\u001b[38;5;28;43mself\u001b[39;49m\u001b[38;5;241;43m.\u001b[39;49m\u001b[43mbody\u001b[49m\u001b[43m,\u001b[49m\u001b[43m \u001b[49m\u001b[43mverify\u001b[49m\u001b[38;5;241;43m=\u001b[39;49m\u001b[38;5;28;43;01mFalse\u001b[39;49;00m\u001b[43m)\u001b[49m\n\u001b[1;32m     46\u001b[0m     \u001b[38;5;28;01melse\u001b[39;00m:\n\u001b[1;32m     47\u001b[0m         \u001b[38;5;28;01mraise\u001b[39;00m \u001b[38;5;167;01mValueError\u001b[39;00m(\u001b[38;5;124mf\u001b[39m\u001b[38;5;124m\"\u001b[39m\u001b[38;5;124mHTTP method \u001b[39m\u001b[38;5;132;01m{\u001b[39;00m\u001b[38;5;28mself\u001b[39m\u001b[38;5;241m.\u001b[39mmethod\u001b[38;5;132;01m}\u001b[39;00m\u001b[38;5;124m is not supported or not implemented in this function.\u001b[39m\u001b[38;5;124m\"\u001b[39m)\n",
      "File \u001b[0;32m/Applications/Anaconda/anaconda3/lib/python3.9/site-packages/requests/api.py:115\u001b[0m, in \u001b[0;36mpost\u001b[0;34m(url, data, json, **kwargs)\u001b[0m\n\u001b[1;32m    103\u001b[0m \u001b[38;5;28;01mdef\u001b[39;00m \u001b[38;5;21mpost\u001b[39m(url, data\u001b[38;5;241m=\u001b[39m\u001b[38;5;28;01mNone\u001b[39;00m, json\u001b[38;5;241m=\u001b[39m\u001b[38;5;28;01mNone\u001b[39;00m, \u001b[38;5;241m*\u001b[39m\u001b[38;5;241m*\u001b[39mkwargs):\n\u001b[1;32m    104\u001b[0m \u001b[38;5;250m    \u001b[39m\u001b[38;5;124mr\u001b[39m\u001b[38;5;124;03m\"\"\"Sends a POST request.\u001b[39;00m\n\u001b[1;32m    105\u001b[0m \n\u001b[1;32m    106\u001b[0m \u001b[38;5;124;03m    :param url: URL for the new :class:`Request` object.\u001b[39;00m\n\u001b[0;32m   (...)\u001b[0m\n\u001b[1;32m    112\u001b[0m \u001b[38;5;124;03m    :rtype: requests.Response\u001b[39;00m\n\u001b[1;32m    113\u001b[0m \u001b[38;5;124;03m    \"\"\"\u001b[39;00m\n\u001b[0;32m--> 115\u001b[0m     \u001b[38;5;28;01mreturn\u001b[39;00m \u001b[43mrequest\u001b[49m\u001b[43m(\u001b[49m\u001b[38;5;124;43m\"\u001b[39;49m\u001b[38;5;124;43mpost\u001b[39;49m\u001b[38;5;124;43m\"\u001b[39;49m\u001b[43m,\u001b[49m\u001b[43m \u001b[49m\u001b[43murl\u001b[49m\u001b[43m,\u001b[49m\u001b[43m \u001b[49m\u001b[43mdata\u001b[49m\u001b[38;5;241;43m=\u001b[39;49m\u001b[43mdata\u001b[49m\u001b[43m,\u001b[49m\u001b[43m \u001b[49m\u001b[43mjson\u001b[49m\u001b[38;5;241;43m=\u001b[39;49m\u001b[43mjson\u001b[49m\u001b[43m,\u001b[49m\u001b[43m \u001b[49m\u001b[38;5;241;43m*\u001b[39;49m\u001b[38;5;241;43m*\u001b[39;49m\u001b[43mkwargs\u001b[49m\u001b[43m)\u001b[49m\n",
      "File \u001b[0;32m/Applications/Anaconda/anaconda3/lib/python3.9/site-packages/requests/api.py:59\u001b[0m, in \u001b[0;36mrequest\u001b[0;34m(method, url, **kwargs)\u001b[0m\n\u001b[1;32m     55\u001b[0m \u001b[38;5;66;03m# By using the 'with' statement we are sure the session is closed, thus we\u001b[39;00m\n\u001b[1;32m     56\u001b[0m \u001b[38;5;66;03m# avoid leaving sockets open which can trigger a ResourceWarning in some\u001b[39;00m\n\u001b[1;32m     57\u001b[0m \u001b[38;5;66;03m# cases, and look like a memory leak in others.\u001b[39;00m\n\u001b[1;32m     58\u001b[0m \u001b[38;5;28;01mwith\u001b[39;00m sessions\u001b[38;5;241m.\u001b[39mSession() \u001b[38;5;28;01mas\u001b[39;00m session:\n\u001b[0;32m---> 59\u001b[0m     \u001b[38;5;28;01mreturn\u001b[39;00m \u001b[43msession\u001b[49m\u001b[38;5;241;43m.\u001b[39;49m\u001b[43mrequest\u001b[49m\u001b[43m(\u001b[49m\u001b[43mmethod\u001b[49m\u001b[38;5;241;43m=\u001b[39;49m\u001b[43mmethod\u001b[49m\u001b[43m,\u001b[49m\u001b[43m \u001b[49m\u001b[43murl\u001b[49m\u001b[38;5;241;43m=\u001b[39;49m\u001b[43murl\u001b[49m\u001b[43m,\u001b[49m\u001b[43m \u001b[49m\u001b[38;5;241;43m*\u001b[39;49m\u001b[38;5;241;43m*\u001b[39;49m\u001b[43mkwargs\u001b[49m\u001b[43m)\u001b[49m\n",
      "File \u001b[0;32m/Applications/Anaconda/anaconda3/lib/python3.9/site-packages/requests/sessions.py:589\u001b[0m, in \u001b[0;36mSession.request\u001b[0;34m(self, method, url, params, data, headers, cookies, files, auth, timeout, allow_redirects, proxies, hooks, stream, verify, cert, json)\u001b[0m\n\u001b[1;32m    584\u001b[0m send_kwargs \u001b[38;5;241m=\u001b[39m {\n\u001b[1;32m    585\u001b[0m     \u001b[38;5;124m\"\u001b[39m\u001b[38;5;124mtimeout\u001b[39m\u001b[38;5;124m\"\u001b[39m: timeout,\n\u001b[1;32m    586\u001b[0m     \u001b[38;5;124m\"\u001b[39m\u001b[38;5;124mallow_redirects\u001b[39m\u001b[38;5;124m\"\u001b[39m: allow_redirects,\n\u001b[1;32m    587\u001b[0m }\n\u001b[1;32m    588\u001b[0m send_kwargs\u001b[38;5;241m.\u001b[39mupdate(settings)\n\u001b[0;32m--> 589\u001b[0m resp \u001b[38;5;241m=\u001b[39m \u001b[38;5;28;43mself\u001b[39;49m\u001b[38;5;241;43m.\u001b[39;49m\u001b[43msend\u001b[49m\u001b[43m(\u001b[49m\u001b[43mprep\u001b[49m\u001b[43m,\u001b[49m\u001b[43m \u001b[49m\u001b[38;5;241;43m*\u001b[39;49m\u001b[38;5;241;43m*\u001b[39;49m\u001b[43msend_kwargs\u001b[49m\u001b[43m)\u001b[49m\n\u001b[1;32m    591\u001b[0m \u001b[38;5;28;01mreturn\u001b[39;00m resp\n",
      "File \u001b[0;32m/Applications/Anaconda/anaconda3/lib/python3.9/site-packages/requests/sessions.py:703\u001b[0m, in \u001b[0;36mSession.send\u001b[0;34m(self, request, **kwargs)\u001b[0m\n\u001b[1;32m    700\u001b[0m start \u001b[38;5;241m=\u001b[39m preferred_clock()\n\u001b[1;32m    702\u001b[0m \u001b[38;5;66;03m# Send the request\u001b[39;00m\n\u001b[0;32m--> 703\u001b[0m r \u001b[38;5;241m=\u001b[39m \u001b[43madapter\u001b[49m\u001b[38;5;241;43m.\u001b[39;49m\u001b[43msend\u001b[49m\u001b[43m(\u001b[49m\u001b[43mrequest\u001b[49m\u001b[43m,\u001b[49m\u001b[43m \u001b[49m\u001b[38;5;241;43m*\u001b[39;49m\u001b[38;5;241;43m*\u001b[39;49m\u001b[43mkwargs\u001b[49m\u001b[43m)\u001b[49m\n\u001b[1;32m    705\u001b[0m \u001b[38;5;66;03m# Total elapsed time of the request (approximately)\u001b[39;00m\n\u001b[1;32m    706\u001b[0m elapsed \u001b[38;5;241m=\u001b[39m preferred_clock() \u001b[38;5;241m-\u001b[39m start\n",
      "File \u001b[0;32m/Applications/Anaconda/anaconda3/lib/python3.9/site-packages/requests/adapters.py:486\u001b[0m, in \u001b[0;36mHTTPAdapter.send\u001b[0;34m(self, request, stream, timeout, verify, cert, proxies)\u001b[0m\n\u001b[1;32m    483\u001b[0m     timeout \u001b[38;5;241m=\u001b[39m TimeoutSauce(connect\u001b[38;5;241m=\u001b[39mtimeout, read\u001b[38;5;241m=\u001b[39mtimeout)\n\u001b[1;32m    485\u001b[0m \u001b[38;5;28;01mtry\u001b[39;00m:\n\u001b[0;32m--> 486\u001b[0m     resp \u001b[38;5;241m=\u001b[39m \u001b[43mconn\u001b[49m\u001b[38;5;241;43m.\u001b[39;49m\u001b[43murlopen\u001b[49m\u001b[43m(\u001b[49m\n\u001b[1;32m    487\u001b[0m \u001b[43m        \u001b[49m\u001b[43mmethod\u001b[49m\u001b[38;5;241;43m=\u001b[39;49m\u001b[43mrequest\u001b[49m\u001b[38;5;241;43m.\u001b[39;49m\u001b[43mmethod\u001b[49m\u001b[43m,\u001b[49m\n\u001b[1;32m    488\u001b[0m \u001b[43m        \u001b[49m\u001b[43murl\u001b[49m\u001b[38;5;241;43m=\u001b[39;49m\u001b[43murl\u001b[49m\u001b[43m,\u001b[49m\n\u001b[1;32m    489\u001b[0m \u001b[43m        \u001b[49m\u001b[43mbody\u001b[49m\u001b[38;5;241;43m=\u001b[39;49m\u001b[43mrequest\u001b[49m\u001b[38;5;241;43m.\u001b[39;49m\u001b[43mbody\u001b[49m\u001b[43m,\u001b[49m\n\u001b[1;32m    490\u001b[0m \u001b[43m        \u001b[49m\u001b[43mheaders\u001b[49m\u001b[38;5;241;43m=\u001b[39;49m\u001b[43mrequest\u001b[49m\u001b[38;5;241;43m.\u001b[39;49m\u001b[43mheaders\u001b[49m\u001b[43m,\u001b[49m\n\u001b[1;32m    491\u001b[0m \u001b[43m        \u001b[49m\u001b[43mredirect\u001b[49m\u001b[38;5;241;43m=\u001b[39;49m\u001b[38;5;28;43;01mFalse\u001b[39;49;00m\u001b[43m,\u001b[49m\n\u001b[1;32m    492\u001b[0m \u001b[43m        \u001b[49m\u001b[43massert_same_host\u001b[49m\u001b[38;5;241;43m=\u001b[39;49m\u001b[38;5;28;43;01mFalse\u001b[39;49;00m\u001b[43m,\u001b[49m\n\u001b[1;32m    493\u001b[0m \u001b[43m        \u001b[49m\u001b[43mpreload_content\u001b[49m\u001b[38;5;241;43m=\u001b[39;49m\u001b[38;5;28;43;01mFalse\u001b[39;49;00m\u001b[43m,\u001b[49m\n\u001b[1;32m    494\u001b[0m \u001b[43m        \u001b[49m\u001b[43mdecode_content\u001b[49m\u001b[38;5;241;43m=\u001b[39;49m\u001b[38;5;28;43;01mFalse\u001b[39;49;00m\u001b[43m,\u001b[49m\n\u001b[1;32m    495\u001b[0m \u001b[43m        \u001b[49m\u001b[43mretries\u001b[49m\u001b[38;5;241;43m=\u001b[39;49m\u001b[38;5;28;43mself\u001b[39;49m\u001b[38;5;241;43m.\u001b[39;49m\u001b[43mmax_retries\u001b[49m\u001b[43m,\u001b[49m\n\u001b[1;32m    496\u001b[0m \u001b[43m        \u001b[49m\u001b[43mtimeout\u001b[49m\u001b[38;5;241;43m=\u001b[39;49m\u001b[43mtimeout\u001b[49m\u001b[43m,\u001b[49m\n\u001b[1;32m    497\u001b[0m \u001b[43m        \u001b[49m\u001b[43mchunked\u001b[49m\u001b[38;5;241;43m=\u001b[39;49m\u001b[43mchunked\u001b[49m\u001b[43m,\u001b[49m\n\u001b[1;32m    498\u001b[0m \u001b[43m    \u001b[49m\u001b[43m)\u001b[49m\n\u001b[1;32m    500\u001b[0m \u001b[38;5;28;01mexcept\u001b[39;00m (ProtocolError, \u001b[38;5;167;01mOSError\u001b[39;00m) \u001b[38;5;28;01mas\u001b[39;00m err:\n\u001b[1;32m    501\u001b[0m     \u001b[38;5;28;01mraise\u001b[39;00m \u001b[38;5;167;01mConnectionError\u001b[39;00m(err, request\u001b[38;5;241m=\u001b[39mrequest)\n",
      "File \u001b[0;32m/Applications/Anaconda/anaconda3/lib/python3.9/site-packages/urllib3/connectionpool.py:715\u001b[0m, in \u001b[0;36mHTTPConnectionPool.urlopen\u001b[0;34m(self, method, url, body, headers, retries, redirect, assert_same_host, timeout, pool_timeout, release_conn, chunked, body_pos, **response_kw)\u001b[0m\n\u001b[1;32m    712\u001b[0m     \u001b[38;5;28mself\u001b[39m\u001b[38;5;241m.\u001b[39m_prepare_proxy(conn)\n\u001b[1;32m    714\u001b[0m \u001b[38;5;66;03m# Make the request on the httplib connection object.\u001b[39;00m\n\u001b[0;32m--> 715\u001b[0m httplib_response \u001b[38;5;241m=\u001b[39m \u001b[38;5;28;43mself\u001b[39;49m\u001b[38;5;241;43m.\u001b[39;49m\u001b[43m_make_request\u001b[49m\u001b[43m(\u001b[49m\n\u001b[1;32m    716\u001b[0m \u001b[43m    \u001b[49m\u001b[43mconn\u001b[49m\u001b[43m,\u001b[49m\n\u001b[1;32m    717\u001b[0m \u001b[43m    \u001b[49m\u001b[43mmethod\u001b[49m\u001b[43m,\u001b[49m\n\u001b[1;32m    718\u001b[0m \u001b[43m    \u001b[49m\u001b[43murl\u001b[49m\u001b[43m,\u001b[49m\n\u001b[1;32m    719\u001b[0m \u001b[43m    \u001b[49m\u001b[43mtimeout\u001b[49m\u001b[38;5;241;43m=\u001b[39;49m\u001b[43mtimeout_obj\u001b[49m\u001b[43m,\u001b[49m\n\u001b[1;32m    720\u001b[0m \u001b[43m    \u001b[49m\u001b[43mbody\u001b[49m\u001b[38;5;241;43m=\u001b[39;49m\u001b[43mbody\u001b[49m\u001b[43m,\u001b[49m\n\u001b[1;32m    721\u001b[0m \u001b[43m    \u001b[49m\u001b[43mheaders\u001b[49m\u001b[38;5;241;43m=\u001b[39;49m\u001b[43mheaders\u001b[49m\u001b[43m,\u001b[49m\n\u001b[1;32m    722\u001b[0m \u001b[43m    \u001b[49m\u001b[43mchunked\u001b[49m\u001b[38;5;241;43m=\u001b[39;49m\u001b[43mchunked\u001b[49m\u001b[43m,\u001b[49m\n\u001b[1;32m    723\u001b[0m \u001b[43m\u001b[49m\u001b[43m)\u001b[49m\n\u001b[1;32m    725\u001b[0m \u001b[38;5;66;03m# If we're going to release the connection in ``finally:``, then\u001b[39;00m\n\u001b[1;32m    726\u001b[0m \u001b[38;5;66;03m# the response doesn't need to know about the connection. Otherwise\u001b[39;00m\n\u001b[1;32m    727\u001b[0m \u001b[38;5;66;03m# it will also try to release it and we'll have a double-release\u001b[39;00m\n\u001b[1;32m    728\u001b[0m \u001b[38;5;66;03m# mess.\u001b[39;00m\n\u001b[1;32m    729\u001b[0m response_conn \u001b[38;5;241m=\u001b[39m conn \u001b[38;5;28;01mif\u001b[39;00m \u001b[38;5;129;01mnot\u001b[39;00m release_conn \u001b[38;5;28;01melse\u001b[39;00m \u001b[38;5;28;01mNone\u001b[39;00m\n",
      "File \u001b[0;32m/Applications/Anaconda/anaconda3/lib/python3.9/site-packages/urllib3/connectionpool.py:467\u001b[0m, in \u001b[0;36mHTTPConnectionPool._make_request\u001b[0;34m(self, conn, method, url, timeout, chunked, **httplib_request_kw)\u001b[0m\n\u001b[1;32m    462\u001b[0m             httplib_response \u001b[38;5;241m=\u001b[39m conn\u001b[38;5;241m.\u001b[39mgetresponse()\n\u001b[1;32m    463\u001b[0m         \u001b[38;5;28;01mexcept\u001b[39;00m \u001b[38;5;167;01mBaseException\u001b[39;00m \u001b[38;5;28;01mas\u001b[39;00m e:\n\u001b[1;32m    464\u001b[0m             \u001b[38;5;66;03m# Remove the TypeError from the exception chain in\u001b[39;00m\n\u001b[1;32m    465\u001b[0m             \u001b[38;5;66;03m# Python 3 (including for exceptions like SystemExit).\u001b[39;00m\n\u001b[1;32m    466\u001b[0m             \u001b[38;5;66;03m# Otherwise it looks like a bug in the code.\u001b[39;00m\n\u001b[0;32m--> 467\u001b[0m             \u001b[43msix\u001b[49m\u001b[38;5;241;43m.\u001b[39;49m\u001b[43mraise_from\u001b[49m\u001b[43m(\u001b[49m\u001b[43me\u001b[49m\u001b[43m,\u001b[49m\u001b[43m \u001b[49m\u001b[38;5;28;43;01mNone\u001b[39;49;00m\u001b[43m)\u001b[49m\n\u001b[1;32m    468\u001b[0m \u001b[38;5;28;01mexcept\u001b[39;00m (SocketTimeout, BaseSSLError, SocketError) \u001b[38;5;28;01mas\u001b[39;00m e:\n\u001b[1;32m    469\u001b[0m     \u001b[38;5;28mself\u001b[39m\u001b[38;5;241m.\u001b[39m_raise_timeout(err\u001b[38;5;241m=\u001b[39me, url\u001b[38;5;241m=\u001b[39murl, timeout_value\u001b[38;5;241m=\u001b[39mread_timeout)\n",
      "File \u001b[0;32m<string>:3\u001b[0m, in \u001b[0;36mraise_from\u001b[0;34m(value, from_value)\u001b[0m\n",
      "File \u001b[0;32m/Applications/Anaconda/anaconda3/lib/python3.9/site-packages/urllib3/connectionpool.py:462\u001b[0m, in \u001b[0;36mHTTPConnectionPool._make_request\u001b[0;34m(self, conn, method, url, timeout, chunked, **httplib_request_kw)\u001b[0m\n\u001b[1;32m    459\u001b[0m \u001b[38;5;28;01mexcept\u001b[39;00m \u001b[38;5;167;01mTypeError\u001b[39;00m:\n\u001b[1;32m    460\u001b[0m     \u001b[38;5;66;03m# Python 3\u001b[39;00m\n\u001b[1;32m    461\u001b[0m     \u001b[38;5;28;01mtry\u001b[39;00m:\n\u001b[0;32m--> 462\u001b[0m         httplib_response \u001b[38;5;241m=\u001b[39m \u001b[43mconn\u001b[49m\u001b[38;5;241;43m.\u001b[39;49m\u001b[43mgetresponse\u001b[49m\u001b[43m(\u001b[49m\u001b[43m)\u001b[49m\n\u001b[1;32m    463\u001b[0m     \u001b[38;5;28;01mexcept\u001b[39;00m \u001b[38;5;167;01mBaseException\u001b[39;00m \u001b[38;5;28;01mas\u001b[39;00m e:\n\u001b[1;32m    464\u001b[0m         \u001b[38;5;66;03m# Remove the TypeError from the exception chain in\u001b[39;00m\n\u001b[1;32m    465\u001b[0m         \u001b[38;5;66;03m# Python 3 (including for exceptions like SystemExit).\u001b[39;00m\n\u001b[1;32m    466\u001b[0m         \u001b[38;5;66;03m# Otherwise it looks like a bug in the code.\u001b[39;00m\n\u001b[1;32m    467\u001b[0m         six\u001b[38;5;241m.\u001b[39mraise_from(e, \u001b[38;5;28;01mNone\u001b[39;00m)\n",
      "File \u001b[0;32m/Applications/Anaconda/anaconda3/lib/python3.9/http/client.py:1377\u001b[0m, in \u001b[0;36mHTTPConnection.getresponse\u001b[0;34m(self)\u001b[0m\n\u001b[1;32m   1375\u001b[0m \u001b[38;5;28;01mtry\u001b[39;00m:\n\u001b[1;32m   1376\u001b[0m     \u001b[38;5;28;01mtry\u001b[39;00m:\n\u001b[0;32m-> 1377\u001b[0m         \u001b[43mresponse\u001b[49m\u001b[38;5;241;43m.\u001b[39;49m\u001b[43mbegin\u001b[49m\u001b[43m(\u001b[49m\u001b[43m)\u001b[49m\n\u001b[1;32m   1378\u001b[0m     \u001b[38;5;28;01mexcept\u001b[39;00m \u001b[38;5;167;01mConnectionError\u001b[39;00m:\n\u001b[1;32m   1379\u001b[0m         \u001b[38;5;28mself\u001b[39m\u001b[38;5;241m.\u001b[39mclose()\n",
      "File \u001b[0;32m/Applications/Anaconda/anaconda3/lib/python3.9/http/client.py:320\u001b[0m, in \u001b[0;36mHTTPResponse.begin\u001b[0;34m(self)\u001b[0m\n\u001b[1;32m    318\u001b[0m \u001b[38;5;66;03m# read until we get a non-100 response\u001b[39;00m\n\u001b[1;32m    319\u001b[0m \u001b[38;5;28;01mwhile\u001b[39;00m \u001b[38;5;28;01mTrue\u001b[39;00m:\n\u001b[0;32m--> 320\u001b[0m     version, status, reason \u001b[38;5;241m=\u001b[39m \u001b[38;5;28;43mself\u001b[39;49m\u001b[38;5;241;43m.\u001b[39;49m\u001b[43m_read_status\u001b[49m\u001b[43m(\u001b[49m\u001b[43m)\u001b[49m\n\u001b[1;32m    321\u001b[0m     \u001b[38;5;28;01mif\u001b[39;00m status \u001b[38;5;241m!=\u001b[39m CONTINUE:\n\u001b[1;32m    322\u001b[0m         \u001b[38;5;28;01mbreak\u001b[39;00m\n",
      "File \u001b[0;32m/Applications/Anaconda/anaconda3/lib/python3.9/http/client.py:281\u001b[0m, in \u001b[0;36mHTTPResponse._read_status\u001b[0;34m(self)\u001b[0m\n\u001b[1;32m    280\u001b[0m \u001b[38;5;28;01mdef\u001b[39;00m \u001b[38;5;21m_read_status\u001b[39m(\u001b[38;5;28mself\u001b[39m):\n\u001b[0;32m--> 281\u001b[0m     line \u001b[38;5;241m=\u001b[39m \u001b[38;5;28mstr\u001b[39m(\u001b[38;5;28;43mself\u001b[39;49m\u001b[38;5;241;43m.\u001b[39;49m\u001b[43mfp\u001b[49m\u001b[38;5;241;43m.\u001b[39;49m\u001b[43mreadline\u001b[49m\u001b[43m(\u001b[49m\u001b[43m_MAXLINE\u001b[49m\u001b[43m \u001b[49m\u001b[38;5;241;43m+\u001b[39;49m\u001b[43m \u001b[49m\u001b[38;5;241;43m1\u001b[39;49m\u001b[43m)\u001b[49m, \u001b[38;5;124m\"\u001b[39m\u001b[38;5;124miso-8859-1\u001b[39m\u001b[38;5;124m\"\u001b[39m)\n\u001b[1;32m    282\u001b[0m     \u001b[38;5;28;01mif\u001b[39;00m \u001b[38;5;28mlen\u001b[39m(line) \u001b[38;5;241m>\u001b[39m _MAXLINE:\n\u001b[1;32m    283\u001b[0m         \u001b[38;5;28;01mraise\u001b[39;00m LineTooLong(\u001b[38;5;124m\"\u001b[39m\u001b[38;5;124mstatus line\u001b[39m\u001b[38;5;124m\"\u001b[39m)\n",
      "File \u001b[0;32m/Applications/Anaconda/anaconda3/lib/python3.9/socket.py:704\u001b[0m, in \u001b[0;36mSocketIO.readinto\u001b[0;34m(self, b)\u001b[0m\n\u001b[1;32m    702\u001b[0m \u001b[38;5;28;01mwhile\u001b[39;00m \u001b[38;5;28;01mTrue\u001b[39;00m:\n\u001b[1;32m    703\u001b[0m     \u001b[38;5;28;01mtry\u001b[39;00m:\n\u001b[0;32m--> 704\u001b[0m         \u001b[38;5;28;01mreturn\u001b[39;00m \u001b[38;5;28;43mself\u001b[39;49m\u001b[38;5;241;43m.\u001b[39;49m\u001b[43m_sock\u001b[49m\u001b[38;5;241;43m.\u001b[39;49m\u001b[43mrecv_into\u001b[49m\u001b[43m(\u001b[49m\u001b[43mb\u001b[49m\u001b[43m)\u001b[49m\n\u001b[1;32m    705\u001b[0m     \u001b[38;5;28;01mexcept\u001b[39;00m timeout:\n\u001b[1;32m    706\u001b[0m         \u001b[38;5;28mself\u001b[39m\u001b[38;5;241m.\u001b[39m_timeout_occurred \u001b[38;5;241m=\u001b[39m \u001b[38;5;28;01mTrue\u001b[39;00m\n",
      "File \u001b[0;32m/Applications/Anaconda/anaconda3/lib/python3.9/ssl.py:1242\u001b[0m, in \u001b[0;36mSSLSocket.recv_into\u001b[0;34m(self, buffer, nbytes, flags)\u001b[0m\n\u001b[1;32m   1238\u001b[0m     \u001b[38;5;28;01mif\u001b[39;00m flags \u001b[38;5;241m!=\u001b[39m \u001b[38;5;241m0\u001b[39m:\n\u001b[1;32m   1239\u001b[0m         \u001b[38;5;28;01mraise\u001b[39;00m \u001b[38;5;167;01mValueError\u001b[39;00m(\n\u001b[1;32m   1240\u001b[0m           \u001b[38;5;124m\"\u001b[39m\u001b[38;5;124mnon-zero flags not allowed in calls to recv_into() on \u001b[39m\u001b[38;5;132;01m%s\u001b[39;00m\u001b[38;5;124m\"\u001b[39m \u001b[38;5;241m%\u001b[39m\n\u001b[1;32m   1241\u001b[0m           \u001b[38;5;28mself\u001b[39m\u001b[38;5;241m.\u001b[39m\u001b[38;5;18m__class__\u001b[39m)\n\u001b[0;32m-> 1242\u001b[0m     \u001b[38;5;28;01mreturn\u001b[39;00m \u001b[38;5;28;43mself\u001b[39;49m\u001b[38;5;241;43m.\u001b[39;49m\u001b[43mread\u001b[49m\u001b[43m(\u001b[49m\u001b[43mnbytes\u001b[49m\u001b[43m,\u001b[49m\u001b[43m \u001b[49m\u001b[43mbuffer\u001b[49m\u001b[43m)\u001b[49m\n\u001b[1;32m   1243\u001b[0m \u001b[38;5;28;01melse\u001b[39;00m:\n\u001b[1;32m   1244\u001b[0m     \u001b[38;5;28;01mreturn\u001b[39;00m \u001b[38;5;28msuper\u001b[39m()\u001b[38;5;241m.\u001b[39mrecv_into(buffer, nbytes, flags)\n",
      "File \u001b[0;32m/Applications/Anaconda/anaconda3/lib/python3.9/ssl.py:1100\u001b[0m, in \u001b[0;36mSSLSocket.read\u001b[0;34m(self, len, buffer)\u001b[0m\n\u001b[1;32m   1098\u001b[0m \u001b[38;5;28;01mtry\u001b[39;00m:\n\u001b[1;32m   1099\u001b[0m     \u001b[38;5;28;01mif\u001b[39;00m buffer \u001b[38;5;129;01mis\u001b[39;00m \u001b[38;5;129;01mnot\u001b[39;00m \u001b[38;5;28;01mNone\u001b[39;00m:\n\u001b[0;32m-> 1100\u001b[0m         \u001b[38;5;28;01mreturn\u001b[39;00m \u001b[38;5;28;43mself\u001b[39;49m\u001b[38;5;241;43m.\u001b[39;49m\u001b[43m_sslobj\u001b[49m\u001b[38;5;241;43m.\u001b[39;49m\u001b[43mread\u001b[49m\u001b[43m(\u001b[49m\u001b[38;5;28;43mlen\u001b[39;49m\u001b[43m,\u001b[49m\u001b[43m \u001b[49m\u001b[43mbuffer\u001b[49m\u001b[43m)\u001b[49m\n\u001b[1;32m   1101\u001b[0m     \u001b[38;5;28;01melse\u001b[39;00m:\n\u001b[1;32m   1102\u001b[0m         \u001b[38;5;28;01mreturn\u001b[39;00m \u001b[38;5;28mself\u001b[39m\u001b[38;5;241m.\u001b[39m_sslobj\u001b[38;5;241m.\u001b[39mread(\u001b[38;5;28mlen\u001b[39m)\n",
      "\u001b[0;31mKeyboardInterrupt\u001b[0m: "
     ]
    }
   ],
   "source": [
    "payouts = []\n",
    "profit = [0]\n",
    "for i in range(LOOP):\n",
    "    rand_index = np.random.randint(0, len(START_CARDS))\n",
    "    card = START_CARDS[rand_index]\n",
    "    start_bet(BET_AMOUNT, card)\n",
    "    resp = guess_higher().json()\n",
    "    \n",
    "    \n",
    "    # return true for high\n",
    "    try:\n",
    "        for i in range(1):\n",
    "            direction = get_direction(resp[\"data\"][\"hiloNext\"][\"state\"][\"rounds\"])\n",
    "            \n",
    "            if direction is None:\n",
    "                break\n",
    "            \n",
    "            if direction:\n",
    "                guess_higher()\n",
    "            else:\n",
    "                guess_lower()\n",
    "    \n",
    "        resp = cashout().json()\n",
    "        print(f'Payout: {resp[\"data\"][\"hiloCashout\"][\"payoutMultiplier\"]}')\n",
    "        payouts.append(resp[\"data\"][\"hiloCashout\"][\"payoutMultiplier\"])\n",
    "        profit.append(profit[-1] + resp[\"data\"][\"hiloCashout\"][\"payoutMultiplier\"] - 1)\n",
    "    except TypeError:\n",
    "        print(\"----LOST----\")\n",
    "        payouts.append(-1)\n",
    "        profit.append(profit[-1] - 1)\n",
    "    \n",
    "    sleep(1)"
   ]
  },
  {
   "cell_type": "code",
   "execution_count": 20,
   "metadata": {},
   "outputs": [
    {
     "data": {
      "text/plain": [
       "8"
      ]
     },
     "execution_count": 20,
     "metadata": {},
     "output_type": "execute_result"
    }
   ],
   "source": [
    "np.random.randint(0,10)"
   ]
  },
  {
   "cell_type": "code",
   "execution_count": 21,
   "metadata": {},
   "outputs": [
    {
     "data": {
      "text/plain": [
       "Text(0.5, 0, 'Rounds')"
      ]
     },
     "execution_count": 21,
     "metadata": {},
     "output_type": "execute_result"
    },
    {
     "data": {
      "image/png": "[encoded data removed]",
      "text/plain": [
       "<Figure size 640x480 with 1 Axes>"
      ]
     },
     "metadata": {},
     "output_type": "display_data"
    }
   ],
   "source": [
    "plt.plot(profit)\n",
    "plt.title(f\"Bet Amount: {BET_AMOUNT}, Rounds: {LOOP}\")\n",
    "plt.ylabel(\"Profit\")\n",
    "plt.xlabel(\"Rounds\")"
   ]
  },
  {
   "cell_type": "code",
   "execution_count": 22,
   "metadata": {},
   "outputs": [
    {
     "data": {
      "text/plain": [
       "(array([1., 0., 0., 0., 0., 0., 0., 0., 0., 4.]),\n",
       " array([-1.       , -0.7838125, -0.567625 , -0.3514375, -0.13525  ,\n",
       "         0.0809375,  0.297125 ,  0.5133125,  0.7295   ,  0.9456875,\n",
       "         1.161875 ]),\n",
       " <BarContainer object of 10 artists>)"
      ]
     },
     "execution_count": 22,
     "metadata": {},
     "output_type": "execute_result"
    },
    {
     "data": {
      "image/png": "[encoded data removed]",
      "text/plain": [
       "<Figure size 640x480 with 1 Axes>"
      ]
     },
     "metadata": {},
     "output_type": "display_data"
    }
   ],
   "source": [
    "plt.hist(payouts)"
   ]
  },
  {
   "cell_type": "markdown",
   "metadata": {},
   "source": [
    "# Expectations\n",
    "- Expected returns: 0.913 (compared to a bet size of 1 unit)\n",
    "- Expected profit: -0.0869 (for each 1 unit of betting)\n",
    "\n",
    "We lose 8.6% of our bet size in the long run"
   ]
  },
  {
   "cell_type": "code",
   "execution_count": null,
   "metadata": {},
   "outputs": [
    {
     "data": {
      "text/plain": [
       "(0.9130769230769231, -0.08692307692307688)"
      ]
     },
     "execution_count": 400,
     "metadata": {},
     "output_type": "execute_result"
    }
   ],
   "source": [
    "prob_ace = 4 / 52\n",
    "prob_not_ace = 1 - prob_ace\n",
    "\n",
    "expected_gain_per_round = prob_not_ace * 1.07  # Gain when not an Ace\n",
    "expected_loss_per_round = prob_ace * 1         # Loss when an Ace\n",
    "\n",
    "# New winning multiplier when not an Ace\n",
    "win_multiplier_not_ace_updated = 1.0725\n",
    "\n",
    "# Expected gain per round with updated multiplier\n",
    "expected_gain_per_round_updated = prob_not_ace * win_multiplier_not_ace_updated  # Gain when not an Ace\n",
    "\n",
    "# Net expected return per round with the updated multiplier\n",
    "net_expected_return_per_round_updated = expected_gain_per_round_updated - expected_loss_per_round\n",
    "\n",
    "# Adjusted net expected return per round with the updated multiplier (subtracting the initial bet)\n",
    "adjusted_net_expected_return_per_round_updated = net_expected_return_per_round_updated - 1\n",
    "\n",
    "net_expected_return_per_round_updated, adjusted_net_expected_return_per_round_updated"
   ]
  },
  {
   "cell_type": "code",
   "execution_count": null,
   "metadata": {},
   "outputs": [],
   "source": []
  }
 ],
 "metadata": {
  "kernelspec": {
   "display_name": "base",
   "language": "python",
   "name": "python3"
  },
  "language_info": {
   "codemirror_mode": {
    "name": "ipython",
    "version": 3
   },
   "file_extension": ".py",
   "mimetype": "text/x-python",
   "name": "python",
   "nbconvert_exporter": "python",
   "pygments_lexer": "ipython3",
   "version": "3.9.16"
  }
 },
 "nbformat": 4,
 "nbformat_minor": 2
}
